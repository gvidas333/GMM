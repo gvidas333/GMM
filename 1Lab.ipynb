{
  "nbformat": 4,
  "nbformat_minor": 0,
  "metadata": {
    "colab": {
      "provenance": [],
      "gpuType": "T4",
      "authorship_tag": "ABX9TyO8fBiHs8uCx/a+FDBIdGo4",
      "include_colab_link": true
    },
    "kernelspec": {
      "name": "python3",
      "display_name": "Python 3"
    },
    "language_info": {
      "name": "python"
    },
    "accelerator": "GPU"
  },
  "cells": [
    {
      "cell_type": "markdown",
      "metadata": {
        "id": "view-in-github",
        "colab_type": "text"
      },
      "source": [
        "<a href=\"https://colab.research.google.com/github/gvidas333/GMM/blob/main/1Lab.ipynb\" target=\"_parent\"><img src=\"https://colab.research.google.com/assets/colab-badge.svg\" alt=\"Open In Colab\"/></a>"
      ]
    },
    {
      "cell_type": "markdown",
      "source": [
        "Gvidas Bačianskas\n",
        "2110532\n",
        "Naudojamas modelis ResNet 50, klases: Bee, Balloon, Orange"
      ],
      "metadata": {
        "id": "8lGB_27qWEeA"
      }
    },
    {
      "cell_type": "code",
      "execution_count": 4,
      "metadata": {
        "colab": {
          "base_uri": "https://localhost:8080/"
        },
        "collapsed": true,
        "id": "vRkgFRAia5nQ",
        "outputId": "5e5165c3-606a-4eaf-c136-8f36db55ba53"
      },
      "outputs": [
        {
          "output_type": "stream",
          "name": "stdout",
          "text": [
            "Requirement already satisfied: openimages in /usr/local/lib/python3.11/dist-packages (0.0.1)\n",
            "Requirement already satisfied: boto3 in /usr/local/lib/python3.11/dist-packages (from openimages) (1.36.21)\n",
            "Requirement already satisfied: cvdata in /usr/local/lib/python3.11/dist-packages (from openimages) (0.0.3)\n",
            "Requirement already satisfied: lxml in /usr/local/lib/python3.11/dist-packages (from openimages) (5.3.1)\n",
            "Requirement already satisfied: pandas in /usr/local/lib/python3.11/dist-packages (from openimages) (2.2.2)\n",
            "Requirement already satisfied: requests in /usr/local/lib/python3.11/dist-packages (from openimages) (2.32.3)\n",
            "Requirement already satisfied: tqdm in /usr/local/lib/python3.11/dist-packages (from openimages) (4.67.1)\n",
            "Requirement already satisfied: botocore<1.37.0,>=1.36.21 in /usr/local/lib/python3.11/dist-packages (from boto3->openimages) (1.36.21)\n",
            "Requirement already satisfied: jmespath<2.0.0,>=0.7.1 in /usr/local/lib/python3.11/dist-packages (from boto3->openimages) (1.0.1)\n",
            "Requirement already satisfied: s3transfer<0.12.0,>=0.11.0 in /usr/local/lib/python3.11/dist-packages (from boto3->openimages) (0.11.2)\n",
            "Requirement already satisfied: numpy in /usr/local/lib/python3.11/dist-packages (from cvdata->openimages) (1.26.4)\n",
            "Requirement already satisfied: opencv-python in /usr/local/lib/python3.11/dist-packages (from cvdata->openimages) (4.11.0.86)\n",
            "Requirement already satisfied: pillow in /usr/local/lib/python3.11/dist-packages (from cvdata->openimages) (11.1.0)\n",
            "Requirement already satisfied: python-dateutil>=2.8.2 in /usr/local/lib/python3.11/dist-packages (from pandas->openimages) (2.8.2)\n",
            "Requirement already satisfied: pytz>=2020.1 in /usr/local/lib/python3.11/dist-packages (from pandas->openimages) (2025.1)\n",
            "Requirement already satisfied: tzdata>=2022.7 in /usr/local/lib/python3.11/dist-packages (from pandas->openimages) (2025.1)\n",
            "Requirement already satisfied: charset-normalizer<4,>=2 in /usr/local/lib/python3.11/dist-packages (from requests->openimages) (3.4.1)\n",
            "Requirement already satisfied: idna<4,>=2.5 in /usr/local/lib/python3.11/dist-packages (from requests->openimages) (3.10)\n",
            "Requirement already satisfied: urllib3<3,>=1.21.1 in /usr/local/lib/python3.11/dist-packages (from requests->openimages) (2.3.0)\n",
            "Requirement already satisfied: certifi>=2017.4.17 in /usr/local/lib/python3.11/dist-packages (from requests->openimages) (2025.1.31)\n",
            "Requirement already satisfied: six>=1.5 in /usr/local/lib/python3.11/dist-packages (from python-dateutil>=2.8.2->pandas->openimages) (1.17.0)\n"
          ]
        }
      ],
      "source": [
        "!pip install openimages"
      ]
    },
    {
      "cell_type": "markdown",
      "source": [
        "Importuojame bibliotekas reikalingas siam projektui. PyTorch naudojamas kaip pagrindinis giliojo mokymosi frameworkas."
      ],
      "metadata": {
        "id": "ugNuS5QITxs1"
      }
    },
    {
      "cell_type": "code",
      "source": [
        "import os\n",
        "from openimages.download import download_dataset\n",
        "import torch\n",
        "import torchvision\n",
        "from torchvision.models import resnet50, ResNet50_Weights\n",
        "from torchvision.transforms import transforms\n",
        "from torch.utils.data import Dataset, DataLoader\n",
        "import PIL\n",
        "from PIL import Image\n",
        "import matplotlib.pyplot as plt\n",
        "import numpy as np\n"
      ],
      "metadata": {
        "id": "_VLcAJmlHQFO"
      },
      "execution_count": 10,
      "outputs": []
    },
    {
      "cell_type": "markdown",
      "source": [
        "Atsisiunciame 3 klasiu nuotraukas, po 334 nuotraukas klasei."
      ],
      "metadata": {
        "id": "KHKHC1ISTwze"
      }
    },
    {
      "cell_type": "code",
      "source": [
        "data_dir = \"data\"\n",
        "\n",
        "number_for_samples = 334\n",
        "classes = [\"Bee\", \"Balloon\", \"Orange\"]\n",
        "\n",
        "if not os.path.exists(data_dir):\n",
        "    os.makedirs(data_dir)\n",
        "\n",
        "print(\"Downloading is starting...\")\n",
        "download_dataset(data_dir, classes, limit=number_for_samples)"
      ],
      "metadata": {
        "colab": {
          "base_uri": "https://localhost:8080/"
        },
        "id": "J1Otfws8HYn9",
        "outputId": "c32bb995-cd07-4f6c-cfe0-71883a71c4ef"
      },
      "execution_count": 15,
      "outputs": [
        {
          "output_type": "stream",
          "name": "stdout",
          "text": [
            "Downloading is starting...\n"
          ]
        },
        {
          "output_type": "stream",
          "name": "stderr",
          "text": [
            "100%|██████████| 334/334 [00:05<00:00, 63.96it/s]\n",
            "100%|██████████| 334/334 [00:04<00:00, 71.41it/s]\n",
            "100%|██████████| 334/334 [00:04<00:00, 69.44it/s]\n"
          ]
        },
        {
          "output_type": "execute_result",
          "data": {
            "text/plain": [
              "{'bee': {'images_dir': 'data/bee/images'},\n",
              " 'balloon': {'images_dir': 'data/balloon/images'},\n",
              " 'orange': {'images_dir': 'data/orange/images'}}"
            ]
          },
          "metadata": {},
          "execution_count": 15
        }
      ]
    },
    {
      "cell_type": "markdown",
      "source": [
        "Sukuriama custom data klase, efektyviai paruosiamos ir uzloadinamos nuotraukos."
      ],
      "metadata": {
        "id": "kXfrZvSwUUIW"
      }
    },
    {
      "cell_type": "code",
      "source": [
        "# Cell 3: Create Custom Dataset Class\n",
        "class ImageClassificationDataset(Dataset):\n",
        "    def __init__(self, data_dir, classes, transform=None):\n",
        "        \"\"\"Initialize the dataset with root directory and transformation\n",
        "        Args:\n",
        "            data_dir (str): Root directory of images\n",
        "            classes (list): List of class names\n",
        "            transform: Optional transform to be applied on images\n",
        "        \"\"\"\n",
        "        self.data_dir = data_dir\n",
        "        self.classes = classes\n",
        "        self.transform = transform\n",
        "        self.image_paths = []\n",
        "        self.labels = []\n",
        "\n",
        "        # For each class, find all images and add them to our dataset\n",
        "        for class_idx, class_name in enumerate(classes):\n",
        "            class_path = os.path.join(data_dir, class_name.lower(), \"images\")\n",
        "            # Get all jpg files in the class directory\n",
        "            class_images = [os.path.join(class_path, f) for f in os.listdir(class_path)\n",
        "                          if f.endswith('.jpg')]\n",
        "\n",
        "            self.image_paths.extend(class_images)\n",
        "            # Add the class index as label for each image\n",
        "            self.labels.extend([class_idx] * len(class_images))\n",
        "\n",
        "        print(f\"Found {len(self.image_paths)} images total\")\n",
        "        for class_idx, class_name in enumerate(classes):\n",
        "            class_count = self.labels.count(class_idx)\n",
        "            print(f\"Class {class_name}: {class_count} images\")\n",
        "\n",
        "    def __len__(self):\n",
        "        \"\"\"Return the total number of images\"\"\"\n",
        "        return len(self.image_paths)\n",
        "\n",
        "    def __getitem__(self, idx):\n",
        "        \"\"\"Load and return a sample from the dataset\n",
        "        Args:\n",
        "            idx (int): Index of the sample to load\n",
        "        Returns:\n",
        "            tuple: (image, label) where label is the class index\n",
        "        \"\"\"\n",
        "        # Load image\n",
        "        image_path = self.image_paths[idx]\n",
        "        image = Image.open(image_path).convert('RGB')\n",
        "\n",
        "        # Apply transformations if any\n",
        "        if self.transform:\n",
        "            image = self.transform(image)\n",
        "\n",
        "        return image, self.labels[idx]"
      ],
      "metadata": {
        "id": "RANGBQIeMHIs"
      },
      "execution_count": 16,
      "outputs": []
    },
    {
      "cell_type": "markdown",
      "source": [
        "Transformuojame nuotraukas, kad jos atitiktu istreniruoto modelio reikalavimus."
      ],
      "metadata": {
        "id": "eBPOpUrdUhdx"
      }
    },
    {
      "cell_type": "code",
      "source": [
        "# Cell 4: Define image transformations\n",
        "transform = transforms.Compose([\n",
        "    transforms.Resize((224, 224)),  # ResNet expects 224x224 images\n",
        "    transforms.ToTensor(),\n",
        "    transforms.Normalize(\n",
        "        mean=[0.485, 0.456, 0.406],  # Standard normalization for ImageNet models\n",
        "        std=[0.229, 0.224, 0.225]\n",
        "    )\n",
        "])\n",
        "\n",
        "# Create dataset instance\n",
        "dataset = ImageClassificationDataset(data_dir, classes, transform=transform)"
      ],
      "metadata": {
        "colab": {
          "base_uri": "https://localhost:8080/"
        },
        "id": "mEsC4T--MLki",
        "outputId": "1ff3bfd9-b5ec-42e7-953e-940158455855"
      },
      "execution_count": 17,
      "outputs": [
        {
          "output_type": "stream",
          "name": "stdout",
          "text": [
            "Found 1002 images total\n",
            "Class Bee: 334 images\n",
            "Class Balloon: 334 images\n",
            "Class Orange: 334 images\n"
          ]
        }
      ]
    },
    {
      "cell_type": "markdown",
      "source": [],
      "metadata": {
        "id": "Va3rukz0Urga"
      }
    },
    {
      "cell_type": "markdown",
      "source": [
        "Naudojame ResNet 50 modeli, jei yra galimybe naudosime GPU."
      ],
      "metadata": {
        "id": "SU5b57n1UteU"
      }
    },
    {
      "cell_type": "code",
      "source": [
        "# Cell 5: Set up pre-trained ResNet50 model\n",
        "weights = ResNet50_Weights.DEFAULT\n",
        "model = resnet50(weights=weights)\n",
        "\n",
        "# Put model in evaluation mode (not training)\n",
        "model.eval()\n",
        "\n",
        "# Move model to GPU if available for faster processing\n",
        "device = torch.device('cuda' if torch.cuda.is_available() else 'cpu')\n",
        "model = model.to(device)\n",
        "\n",
        "print(f\"Using device: {device}\")"
      ],
      "metadata": {
        "colab": {
          "base_uri": "https://localhost:8080/"
        },
        "id": "CPgXE5SFOJEI",
        "outputId": "16ad45b4-e750-4ea2-c3a3-c7e58f54dda9"
      },
      "execution_count": 18,
      "outputs": [
        {
          "output_type": "stream",
          "name": "stderr",
          "text": [
            "Downloading: \"https://download.pytorch.org/models/resnet50-11ad3fa6.pth\" to /root/.cache/torch/hub/checkpoints/resnet50-11ad3fa6.pth\n",
            "100%|██████████| 97.8M/97.8M [00:00<00:00, 177MB/s]\n"
          ]
        },
        {
          "output_type": "stream",
          "name": "stdout",
          "text": [
            "Using device: cuda\n"
          ]
        }
      ]
    },
    {
      "cell_type": "markdown",
      "source": [
        "Padarome, jog nuotrauku pateikimas modeliui butu efektyvus. Tai pasiekiame naudojant dataloaderi, nuotraukas suskirstome i batchus ir jas pramaisome."
      ],
      "metadata": {
        "id": "_yVs0ji3U_4p"
      }
    },
    {
      "cell_type": "code",
      "source": [
        "# Cell 6: Create DataLoader\n",
        "batch_size = 32\n",
        "data_loader = DataLoader(\n",
        "    dataset,\n",
        "    batch_size=batch_size,\n",
        "    shuffle=True,\n",
        "    num_workers=2  # Number of processes to use for loading data\n",
        ")"
      ],
      "metadata": {
        "id": "k33FKTIkOLKf"
      },
      "execution_count": 19,
      "outputs": []
    },
    {
      "cell_type": "markdown",
      "source": [
        "Predictinimo funkcija, kurioje galime keisti slenksti"
      ],
      "metadata": {
        "id": "ZLiMVcxuVaVW"
      }
    },
    {
      "cell_type": "code",
      "source": [
        "# Cell 7: Create prediction function with threshold\n",
        "def predict_with_threshold(model, images, threshold, class_indices):\n",
        "    \"\"\"\n",
        "    Make predictions with a threshold for each class\n",
        "\n",
        "    Args:\n",
        "        model: The pre-trained model\n",
        "        images: Batch of images\n",
        "        threshold: Classification threshold (between 0 and 1)\n",
        "        class_indices: Dictionary mapping our classes to model's class indices\n",
        "\n",
        "    Returns:\n",
        "        Predictions for each class based on threshold\n",
        "    \"\"\"\n",
        "    # Move images to same device as model\n",
        "    images = images.to(device)\n",
        "\n",
        "    # Get model predictions\n",
        "    with torch.no_grad():  # We don't need gradients for prediction\n",
        "        outputs = model(images)\n",
        "        probabilities = torch.softmax(outputs, dim=1)\n",
        "\n",
        "    # Initialize predictions dictionary\n",
        "    predictions = {}\n",
        "\n",
        "    # For each of our classes\n",
        "    for class_name, idx in class_indices.items():\n",
        "        # Get probability for this class\n",
        "        class_probs = probabilities[:, idx]\n",
        "        # Apply threshold\n",
        "        predictions[class_name] = (class_probs > threshold).cpu()\n",
        "\n",
        "    return predictions\n",
        "\n",
        "# Get the indices of our classes in the pre-trained model's class list\n",
        "class_indices = {\n",
        "    class_name: weights.meta[\"categories\"].index(class_name.lower())\n",
        "    for class_name in classes\n",
        "}\n",
        "\n",
        "print(\"Class indices in the pre-trained model:\")\n",
        "for class_name, idx in class_indices.items():\n",
        "    print(f\"{class_name}: {idx}\")"
      ],
      "metadata": {
        "colab": {
          "base_uri": "https://localhost:8080/"
        },
        "id": "DXrWeb7fOUGQ",
        "outputId": "60c364cc-84f8-4f7f-c141-72dea610003e"
      },
      "execution_count": 20,
      "outputs": [
        {
          "output_type": "stream",
          "name": "stdout",
          "text": [
            "Class indices in the pre-trained model:\n",
            "Bee: 309\n",
            "Balloon: 417\n",
            "Orange: 950\n"
          ]
        }
      ]
    },
    {
      "cell_type": "markdown",
      "source": [
        "Sukuriame funkcija, kuri parodytu metrics kaip sekasi modeliui."
      ],
      "metadata": {
        "id": "dFRba_rqViEM"
      }
    },
    {
      "cell_type": "code",
      "source": [
        "# Cell 8: Create functions for calculating metrics\n",
        "def calculate_metrics(true_labels, predictions):\n",
        "    \"\"\"\n",
        "    Calculate accuracy, precision, recall, and F1 score\n",
        "\n",
        "    Args:\n",
        "        true_labels: The actual labels (ground truth)\n",
        "        predictions: Model predictions after applying threshold\n",
        "\n",
        "    Returns:\n",
        "        Dictionary containing all metrics\n",
        "    \"\"\"\n",
        "    # Convert tensors to numpy for easier calculation\n",
        "    predictions = predictions.numpy()\n",
        "    true_labels = true_labels.numpy()\n",
        "\n",
        "    # Calculate True Positives, False Positives, False Negatives\n",
        "    true_positives = np.sum((predictions == 1) & (true_labels == 1))\n",
        "    false_positives = np.sum((predictions == 1) & (true_labels == 0))\n",
        "    false_negatives = np.sum((predictions == 0) & (true_labels == 1))\n",
        "    true_negatives = np.sum((predictions == 0) & (true_labels == 0))\n",
        "\n",
        "    # Calculate metrics\n",
        "    accuracy = (true_positives + true_negatives) / len(true_labels)\n",
        "\n",
        "    # Handle division by zero cases\n",
        "    precision = true_positives / (true_positives + false_positives) if (true_positives + false_positives) > 0 else 0\n",
        "    recall = true_positives / (true_positives + false_negatives) if (true_positives + false_negatives) > 0 else 0\n",
        "\n",
        "    # Calculate F1 score\n",
        "    f1 = 2 * (precision * recall) / (precision + recall) if (precision + recall) > 0 else 0\n",
        "\n",
        "    return {\n",
        "        'accuracy': accuracy,\n",
        "        'precision': precision,\n",
        "        'recall': recall,\n",
        "        'f1': f1\n",
        "    }"
      ],
      "metadata": {
        "id": "tQjrzB0vO_cT"
      },
      "execution_count": 21,
      "outputs": []
    },
    {
      "cell_type": "markdown",
      "source": [
        "Si funkcija apjungia visas pries tai apibreztas funkcijas, nuotraukos pereina modeli, pritaikomas slenkstis ir paskaiciuojamos reiksmes."
      ],
      "metadata": {
        "id": "R0NSgrHkVqF6"
      }
    },
    {
      "cell_type": "code",
      "source": [
        "# Cell 9: Create function to evaluate model with different thresholds\n",
        "def evaluate_model(model, data_loader, threshold, class_indices):\n",
        "    \"\"\"\n",
        "    Evaluate model performance with a specific threshold\n",
        "\n",
        "    Args:\n",
        "        model: The pre-trained model\n",
        "        data_loader: DataLoader with our dataset\n",
        "        threshold: Classification threshold value\n",
        "        class_indices: Dictionary mapping our classes to model indices\n",
        "\n",
        "    Returns:\n",
        "        Dictionary with metrics for each class\n",
        "    \"\"\"\n",
        "    all_metrics = {}\n",
        "\n",
        "    # For storing predictions and labels\n",
        "    class_predictions = {class_name: [] for class_name in classes}\n",
        "    class_labels = {class_name: [] for class_name in classes}\n",
        "\n",
        "    # Process all batches\n",
        "    for images, batch_labels in data_loader:\n",
        "        # Get predictions with current threshold\n",
        "        predictions = predict_with_threshold(model, images, threshold, class_indices)\n",
        "\n",
        "        # Store predictions and labels for each class\n",
        "        for class_idx, class_name in enumerate(classes):\n",
        "            class_pred = predictions[class_name]\n",
        "            class_true = (batch_labels == class_idx).cpu()\n",
        "\n",
        "            class_predictions[class_name].append(class_pred)\n",
        "            class_labels[class_name].append(class_true)\n",
        "\n",
        "    # Calculate metrics for each class\n",
        "    for class_name in classes:\n",
        "        # Concatenate all predictions and labels for this class\n",
        "        all_preds = torch.cat(class_predictions[class_name])\n",
        "        all_labels = torch.cat(class_labels[class_name])\n",
        "\n",
        "        # Calculate metrics\n",
        "        metrics = calculate_metrics(all_labels, all_preds)\n",
        "        all_metrics[class_name] = metrics\n",
        "\n",
        "    return all_metrics"
      ],
      "metadata": {
        "id": "HFg-DvbwPDh2"
      },
      "execution_count": 24,
      "outputs": []
    },
    {
      "cell_type": "code",
      "source": [
        "# Cell 10: Create function to display results\n",
        "def display_results(metrics):\n",
        "    \"\"\"\n",
        "    Display evaluation metrics in a readable format\n",
        "    \"\"\"\n",
        "    for class_name, class_metrics in metrics.items():\n",
        "        print(f\"\\n{class_name} Class Metrics:\")\n",
        "        print(\"-\" * 20)\n",
        "        for metric_name, value in class_metrics.items():\n",
        "            print(f\"{metric_name.capitalize()}: {value:.3f}\")"
      ],
      "metadata": {
        "id": "9SHfJnp-PQ26"
      },
      "execution_count": 33,
      "outputs": []
    },
    {
      "cell_type": "code",
      "source": [
        "# Cell 11: Test everything with a sample threshold\n",
        "threshold = 0.5  # We can adjust this value between 0 and 1\n",
        "print(f\"Evaluating model with threshold = {threshold}\")\n",
        "metrics = evaluate_model(model, data_loader, threshold, class_indices)\n",
        "display_results(metrics)"
      ],
      "metadata": {
        "colab": {
          "base_uri": "https://localhost:8080/"
        },
        "id": "OM9ZD7r_QKSa",
        "outputId": "6dd5e564-8231-4e9d-adba-1c4a513afe38"
      },
      "execution_count": 29,
      "outputs": [
        {
          "output_type": "stream",
          "name": "stdout",
          "text": [
            "Evaluating model with threshold = 0.5\n",
            "\n",
            "Bee Class Metrics:\n",
            "--------------------\n",
            "Accuracy: 0.701\n",
            "Precision: 1.000\n",
            "Recall: 0.102\n",
            "F1: 0.185\n",
            "\n",
            "Balloon Class Metrics:\n",
            "--------------------\n",
            "Accuracy: 0.744\n",
            "Precision: 1.000\n",
            "Recall: 0.231\n",
            "F1: 0.375\n",
            "\n",
            "Orange Class Metrics:\n",
            "--------------------\n",
            "Accuracy: 0.697\n",
            "Precision: 1.000\n",
            "Recall: 0.090\n",
            "F1: 0.165\n"
          ]
        }
      ]
    },
    {
      "cell_type": "code",
      "source": [
        "# Cell 12: Create visualization of metrics across thresholds\n",
        "import numpy as np\n",
        "\n",
        "def evaluate_thresholds(model, data_loader, class_indices, num_points=20):\n",
        "    \"\"\"\n",
        "    Evaluate model performance across different thresholds\n",
        "\n",
        "    Args:\n",
        "        model: The pre-trained model\n",
        "        data_loader: DataLoader with our dataset\n",
        "        class_indices: Dictionary mapping our classes to model indices\n",
        "        num_points: Number of threshold points to evaluate\n",
        "\n",
        "    Returns:\n",
        "        Dictionary containing threshold values and corresponding metrics\n",
        "    \"\"\"\n",
        "    # Create threshold values from 0 to 1\n",
        "    thresholds = np.linspace(0, 1, num_points)\n",
        "\n",
        "    # Store results for each class\n",
        "    results = {class_name: {\n",
        "        'thresholds': thresholds,\n",
        "        'precision': [],\n",
        "        'recall': [],\n",
        "        'f1': []\n",
        "    } for class_name in classes}\n",
        "\n",
        "    # Evaluate each threshold\n",
        "    for threshold in thresholds:\n",
        "        metrics = evaluate_model(model, data_loader, threshold, class_indices)\n",
        "\n",
        "        # Store metrics for each class\n",
        "        for class_name in classes:\n",
        "            results[class_name]['precision'].append(metrics[class_name]['precision'])\n",
        "            results[class_name]['recall'].append(metrics[class_name]['recall'])\n",
        "            results[class_name]['f1'].append(metrics[class_name]['f1'])\n",
        "\n",
        "    return results"
      ],
      "metadata": {
        "id": "257OewmSRQB0"
      },
      "execution_count": 31,
      "outputs": []
    },
    {
      "cell_type": "code",
      "source": [
        "# Cell 13: Create and display the plots\n",
        "def plot_metrics(results):\n",
        "    \"\"\"\n",
        "    Create plots showing how metrics change with threshold\n",
        "    \"\"\"\n",
        "    # Create a figure with subplots for each class\n",
        "    fig, axes = plt.subplots(1, len(classes), figsize=(15, 5))\n",
        "\n",
        "    # Colors for different metrics\n",
        "    colors = {'precision': 'blue', 'recall': 'red', 'f1': 'green'}\n",
        "\n",
        "    # Plot for each class\n",
        "    for idx, class_name in enumerate(classes):\n",
        "        ax = axes[idx]\n",
        "        class_results = results[class_name]\n",
        "\n",
        "        # Plot each metric\n",
        "        for metric in ['precision', 'recall', 'f1']:\n",
        "            ax.plot(class_results['thresholds'],\n",
        "                   class_results[metric],\n",
        "                   color=colors[metric],\n",
        "                   label=metric.capitalize(),\n",
        "                   linewidth=2)\n",
        "\n",
        "        # Customize the plot\n",
        "        ax.set_title(f'{class_name} Metrics')\n",
        "        ax.set_xlabel('Threshold')\n",
        "        ax.set_ylabel('Score')\n",
        "        ax.grid(True, alpha=0.3)\n",
        "        ax.legend()\n",
        "        ax.set_ylim(0, 1.1)\n",
        "\n",
        "    plt.tight_layout()\n",
        "    plt.show()\n",
        "\n",
        "# Run the evaluation and create the plots\n",
        "print(\"Evaluating model across different thresholds...\")\n",
        "results = evaluate_thresholds(model, data_loader, class_indices)\n",
        "plot_metrics(results)"
      ],
      "metadata": {
        "colab": {
          "base_uri": "https://localhost:8080/",
          "height": 524
        },
        "id": "w1lNsfrqTRe4",
        "outputId": "2da6997d-a957-4600-bb85-22d73bef1a66"
      },
      "execution_count": 32,
      "outputs": [
        {
          "output_type": "stream",
          "name": "stdout",
          "text": [
            "Evaluating model across different thresholds...\n"
          ]
        },
        {
          "output_type": "display_data",
          "data": {
            "text/plain": [
              "<Figure size 1500x500 with 3 Axes>"
            ],
            "image/png": "[encoded data removed]"
          },
          "metadata": {}
        }
      ]
    }
  ]
}